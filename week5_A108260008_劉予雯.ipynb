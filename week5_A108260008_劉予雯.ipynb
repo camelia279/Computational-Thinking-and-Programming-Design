{
  "nbformat": 4,
  "nbformat_minor": 0,
  "metadata": {
    "colab": {
      "name": "week5 A108260008 劉予雯.ipynb",
      "provenance": [],
      "include_colab_link": true
    },
    "kernelspec": {
      "name": "python3",
      "display_name": "Python 3"
    }
  },
  "cells": [
    {
      "cell_type": "markdown",
      "metadata": {
        "id": "view-in-github",
        "colab_type": "text"
      },
      "source": [
        "<a href=\"https://colab.research.google.com/github/camelia279/Computational-Thinking-and-Programming-Design/blob/master/week5_A108260008_%E5%8A%89%E4%BA%88%E9%9B%AF.ipynb\" target=\"_parent\"><img src=\"https://colab.research.google.com/assets/colab-badge.svg\" alt=\"Open In Colab\"/></a>"
      ]
    },
    {
      "cell_type": "code",
      "metadata": {
        "id": "6c9YuTwZUV-Y",
        "colab_type": "code",
        "outputId": "2f9a4a8a-7413-4fed-c5a5-5f08413fae5e",
        "colab": {
          "base_uri": "https://localhost:8080/",
          "height": 84
        }
      },
      "source": [
        "上衣=int(input('請輸入上衣數量？'))\n",
        "褲子=int(input('請輸入褲子數量？'))\n",
        "背心=int(input('請輸入背心數量？'))\n",
        "\n",
        "總金額=上衣*300+褲子*350+背心*400\n",
        "print('訂購服裝的總金額',總金額)"
      ],
      "execution_count": 0,
      "outputs": [
        {
          "output_type": "stream",
          "text": [
            "請輸入上衣數量？2\n",
            "請輸入褲子數量？3\n",
            "請輸入背心數量？1\n",
            "訂購服裝的總金額 2050\n"
          ],
          "name": "stdout"
        }
      ]
    },
    {
      "cell_type": "code",
      "metadata": {
        "id": "p11cZggeVR4a",
        "colab_type": "code",
        "outputId": "20fe7c5f-38f7-4fd7-968a-61dfe099108a",
        "colab": {
          "base_uri": "https://localhost:8080/",
          "height": 50
        }
      },
      "source": [
        "半徑 = float(input('請輸入半徑？'))\n",
        "PI = 3.14159\n",
        "圓周長 = 2 * PI * 半徑\n",
        "圓面積 = 半徑 * 半徑 * PI\n",
        "print('圓周長為', 圓周長, '圓面積為', 圓面積)"
      ],
      "execution_count": 0,
      "outputs": [
        {
          "output_type": "stream",
          "text": [
            "請輸入半徑？10\n",
            "圓周長為 62.8318 圓面積為 314.159\n"
          ],
          "name": "stdout"
        }
      ]
    },
    {
      "cell_type": "code",
      "metadata": {
        "id": "9YDQ2AUEV45x",
        "colab_type": "code",
        "outputId": "8a39f2f5-e7de-40ca-ef9a-88dfb4621d52",
        "colab": {
          "base_uri": "https://localhost:8080/",
          "height": 50
        }
      },
      "source": [
        "c = float(input('請輸入攝氏溫度？'))\n",
        "f = c * 9 / 5 +32\n",
        "print('華氏溫度為', f)\n"
      ],
      "execution_count": 0,
      "outputs": [
        {
          "output_type": "stream",
          "text": [
            "請輸入攝氏溫度？50\n",
            "華氏溫度為 122.0\n"
          ],
          "name": "stdout"
        }
      ]
    },
    {
      "cell_type": "code",
      "metadata": {
        "id": "uP9JvxHhWOQe",
        "colab_type": "code",
        "outputId": "db9c6a9a-f1b8-4834-b793-e7d002be94bc",
        "colab": {
          "base_uri": "https://localhost:8080/",
          "height": 101
        }
      },
      "source": [
        "money = int(input('請輸入本金？'))\n",
        "interest = float(input('請輸入年利率(%)？'))\n",
        "\n",
        "y1 = money * (1 + interest/100)\n",
        "y2 = money * ((1 + interest/100) ** 2)\n",
        "y3 = money * ((1 + interest/100) ** 3)\n",
        "\n",
        "print('第一年本利和為', y1)\n",
        "print('第二年本利和為', y2)\n",
        "print('第三年本利和為', y3)"
      ],
      "execution_count": 0,
      "outputs": [
        {
          "output_type": "stream",
          "text": [
            "請輸入本金？10000\n",
            "請輸入年利率(%)？1.5\n",
            "第一年本利和為 10149.999999999998\n",
            "第二年本利和為 10302.249999999996\n",
            "第三年本利和為 10456.783749999997\n"
          ],
          "name": "stdout"
        }
      ]
    },
    {
      "cell_type": "code",
      "metadata": {
        "id": "IY5U6BwrWewa",
        "colab_type": "code",
        "outputId": "35e64243-e91d-4a88-80d9-cb6a43366a19",
        "colab": {
          "base_uri": "https://localhost:8080/",
          "height": 50
        }
      },
      "source": [
        "s = input('請輸入一個字串？')\n",
        "print('迴文判斷結果為', s == s[::-1])"
      ],
      "execution_count": 0,
      "outputs": [
        {
          "output_type": "stream",
          "text": [
            "請輸入一個字串？abvba\n",
            "迴文判斷結果為 True\n"
          ],
          "name": "stdout"
        }
      ]
    },
    {
      "cell_type": "code",
      "metadata": {
        "id": "JfO5y0KxWt7p",
        "colab_type": "code",
        "outputId": "8b350ab7-15b3-40c7-a63b-5d253cbbb53d",
        "colab": {
          "base_uri": "https://localhost:8080/",
          "height": 84
        }
      },
      "source": [
        "minutes_to_convert = 123\n",
        "hours_decimal = minutes_to_convert/60\n",
        "hours_part = int(hours_decimal)\n",
        "minutes_decimal = hours_decimal-hours_part\n",
        "minutes_part = round(minutes_decimal*60)\n",
        "\n",
        "print(\"Hours\")\n",
        "print(hours_part)\n",
        "print(\"Minutes\")\n",
        "print(minutes_part)"
      ],
      "execution_count": 0,
      "outputs": [
        {
          "output_type": "stream",
          "text": [
            "Hours\n",
            "2\n",
            "Minutes\n",
            "3\n"
          ],
          "name": "stdout"
        }
      ]
    },
    {
      "cell_type": "code",
      "metadata": {
        "id": "X5D5XMTkXHDl",
        "colab_type": "code",
        "outputId": "2af5f7c2-ea93-4fe3-a4f1-8087bc8906db",
        "colab": {
          "base_uri": "https://localhost:8080/",
          "height": 134
        }
      },
      "source": [
        "x=int(input('請輸入第一次期中考成績？'))\n",
        "y=int(input('請輸入第二次期中考成績？'))\n",
        "z=int(input('請輸入期末考成績？'))\n",
        "\n",
        "print('總分為',(x+y+z))\n",
        "print('平均',((x+y+z)/3))"
      ],
      "execution_count": 0,
      "outputs": [
        {
          "output_type": "stream",
          "text": [
            "請輸入第一次期中考成績？80\n",
            "請輸入第二次期中考成績？75\n",
            "請輸入期末考成績？65\n",
            "220\n",
            "73.33333333333333\n",
            "總分為 220\n",
            "平均 73.33333333333333\n"
          ],
          "name": "stdout"
        }
      ]
    },
    {
      "cell_type": "code",
      "metadata": {
        "id": "1tZRm-jjcPHw",
        "colab_type": "code",
        "outputId": "08f1f95f-e096-41f0-ed04-faa9332a3a9b",
        "colab": {
          "base_uri": "https://localhost:8080/",
          "height": 67
        }
      },
      "source": [
        "w=int(input('請輸入幾尺？'))\n",
        "t=int(input('請輸入幾吋？'))\n",
        "\n",
        "print('轉換成',((w*12+t)*2.54))"
      ],
      "execution_count": 0,
      "outputs": [
        {
          "output_type": "stream",
          "text": [
            "請輸入幾尺？5\n",
            "請輸入幾吋？8\n",
            "轉換成 172.72\n"
          ],
          "name": "stdout"
        }
      ]
    },
    {
      "cell_type": "code",
      "metadata": {
        "id": "2XCXRwisuk0P",
        "colab_type": "code",
        "outputId": "302b69a7-9697-48c7-aa4d-1e7113d7db4a",
        "colab": {
          "base_uri": "https://localhost:8080/",
          "height": 50
        }
      },
      "source": [
        "import math\n",
        "e = int(input('請輸入座號'))\n",
        "l = int(e/5)\n",
        "print('組別為' ,math.ceil(l))"
      ],
      "execution_count": 0,
      "outputs": [
        {
          "output_type": "stream",
          "text": [
            "請輸入座號19\n",
            "組別為 3\n"
          ],
          "name": "stdout"
        }
      ]
    },
    {
      "cell_type": "code",
      "metadata": {
        "id": "nvnU0NzQu4nR",
        "colab_type": "code",
        "outputId": "3fb6c3a2-ecee-41be-873a-ff0d6665fe7f",
        "colab": {
          "base_uri": "https://localhost:8080/",
          "height": 50
        }
      },
      "source": [
        "u=int(input('請輸入購買飲料的罐數'))\n",
        "p=int(u/12)\n",
        "v=int(p*200)\n",
        "y=int(p)\n",
        "l=(12*y)\n",
        "h=((u-l)*20)\n",
        "x=(h+v)\n",
        "print(\"需花費\", x)"
      ],
      "execution_count": 0,
      "outputs": [
        {
          "output_type": "stream",
          "text": [
            "請輸入購買飲料的罐數30\n",
            "需花費 520\n"
          ],
          "name": "stdout"
        }
      ]
    },
    {
      "cell_type": "code",
      "metadata": {
        "id": "hzem8vtJvk-O",
        "colab_type": "code",
        "outputId": "bf5657e5-caf9-4ef3-9a64-98ffb664a518",
        "colab": {
          "base_uri": "https://localhost:8080/",
          "height": 151
        }
      },
      "source": [
        "import math\n",
        "\n",
        "print('1KB=',int(pow(2,10)),\"Byte\")\n",
        "print('1MB=',int(pow(2,20)),\"Byte\")\n",
        "print('1GB=',int(pow(2,30)),\"Byte\")\n",
        "print('1TB=',int(pow(2,40)),\"Byte\")\n",
        "print('1PB=',int(pow(2,50)),\"Byte\")\n",
        "print('1EB=',int(pow(2,60)),\"Byte\")\n",
        "print('1ZB=',int(pow(2,70)),\"Byte\")\n",
        "print('1YB=',int(pow(2,80)),\"Byte\")"
      ],
      "execution_count": 5,
      "outputs": [
        {
          "output_type": "stream",
          "text": [
            "1KB= 1024 Byte\n",
            "1MB= 1048576 Byte\n",
            "1GB= 1073741824 Byte\n",
            "1TB= 1099511627776 Byte\n",
            "1PB= 1125899906842624 Byte\n",
            "1EB= 1152921504606846976 Byte\n",
            "1ZB= 1180591620717411303424 Byte\n",
            "1YB= 1208925819614629174706176 Byte\n"
          ],
          "name": "stdout"
        }
      ]
    },
    {
      "cell_type": "code",
      "metadata": {
        "id": "w4DTLqZy4jfQ",
        "colab_type": "code",
        "colab": {}
      },
      "source": [
        ""
      ],
      "execution_count": 0,
      "outputs": []
    }
  ]
}
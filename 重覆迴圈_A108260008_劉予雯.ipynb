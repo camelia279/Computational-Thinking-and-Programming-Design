{
  "nbformat": 4,
  "nbformat_minor": 0,
  "metadata": {
    "colab": {
      "name": "重覆迴圈 - A108260008 -劉予雯.ipynb",
      "provenance": [],
      "include_colab_link": true
    },
    "kernelspec": {
      "name": "python3",
      "display_name": "Python 3"
    }
  },
  "cells": [
    {
      "cell_type": "markdown",
      "metadata": {
        "id": "view-in-github",
        "colab_type": "text"
      },
      "source": [
        "<a href=\"https://colab.research.google.com/github/camelia279/Computational-Thinking-and-Programming-Design/blob/master/%E9%87%8D%E8%A6%86%E8%BF%B4%E5%9C%88_A108260008_%E5%8A%89%E4%BA%88%E9%9B%AF.ipynb\" target=\"_parent\"><img src=\"https://colab.research.google.com/assets/colab-badge.svg\" alt=\"Open In Colab\"/></a>"
      ]
    },
    {
      "cell_type": "code",
      "metadata": {
        "id": "JIPwNon0k_DT",
        "colab_type": "code",
        "colab": {}
      },
      "source": [
        "x=5\n",
        "if x<10:\n",
        "  print(\"x is less than 10\")\n",
        "\n",
        "x=5 #初始值\n",
        "while x<10:  #判斷條件\n",
        "  print(\"x is less than 10\")\n",
        "  print(\"I am still here\")\n",
        "  x=x+1   #判斷條件\n",
        "print(\"Finished\")\n",
        "\n",
        "x=1 #初始值\n",
        "while x<5:  #判斷條件\n",
        "  print(\"變數x是\",x)\n",
        "  x=x+1 #更新條件\n",
        "print(\"Finished\")\n",
        "\n",
        "\n",
        "\n",
        "#印10次HELLO\n",
        "\n",
        "x=1 #初始值\n",
        "while X<=10:  #判斷條件\n",
        "  print(\"This is\",x,\"times HELLO\")\n",
        "  x=x+1 #更新條件\n",
        "print(\"Finished\")\n",
        "\n",
        "\n",
        "#印10次HELLO\n",
        "\n",
        "x=0 #初始值\n",
        "while x<=10:  #判斷條件\n",
        "  x=x+1 #更新條件\n",
        "  left=10-x #更新條件\n",
        "  print(\"This is\",x,\"times HELLO.\",\"You still have\",left,\"times.\")\n",
        "print(\"Finished\")\n",
        "\n",
        "\n",
        "#1到10之和\n",
        "\n",
        "x=0 #初始值\n",
        "sum=0 #初始值\n",
        "\n",
        "while x<=50:  #判斷條件\n",
        "  x=x+1 #更新條件\n",
        "  sum=sum+x #更新條件\n",
        "  print(\"Sum is\",sum)\n",
        "print(\"Finished\")\n",
        "\n",
        "#1到X之和大於50\n",
        "\n",
        "x=0 #初始值\n",
        "sum=0 #初始值\n",
        "\n",
        "while sum<10: #判斷條件\n",
        "  x=x+1 #更新條件\n",
        "  sum=sum+x #更新條件\n",
        "  print(\"Sum is\",sum)\n",
        "print(\"Finished\")"
      ],
      "execution_count": 0,
      "outputs": []
    },
    {
      "cell_type": "code",
      "metadata": {
        "id": "Lbtl6yuuxrW9",
        "colab_type": "code",
        "outputId": "151a6fa4-c8bf-4552-fd8e-30a07d73e574",
        "colab": {
          "base_uri": "https://localhost:8080/",
          "height": 34
        }
      },
      "source": [
        "#1到9奇數之和\n",
        "sum = 0 # 初始條件\n",
        "x = 1\n",
        "while x < 11: # 判斷條件\n",
        "  sum = sum + x # 更新條件\n",
        "  x = x + 2\n",
        "print(\"1 + 3 + 5 + 7 + 9 = \", sum) # 最後結果"
      ],
      "execution_count": 4,
      "outputs": [
        {
          "output_type": "stream",
          "text": [
            "1 + 3 + 5 + 7 + 9 =  25\n"
          ],
          "name": "stdout"
        }
      ]
    },
    {
      "cell_type": "code",
      "metadata": {
        "id": "jUng9gA5yH5q",
        "colab_type": "code",
        "outputId": "62c302d5-18df-4c3d-e20c-16792344608d",
        "colab": {
          "base_uri": "https://localhost:8080/"
        }
      },
      "source": [
        "#求大於1000最小平方和\n",
        "sum = 0\n",
        "i = 0\n",
        "while sum <= 1000:\n",
        "  i += 1\n",
        "  sum += i*i\n",
        "print('最小的n值為', i)"
      ],
      "execution_count": 0,
      "outputs": [
        {
          "output_type": "stream",
          "text": [
            "最小的n值為 14\n"
          ],
          "name": "stdout"
        }
      ]
    }
  ]
}
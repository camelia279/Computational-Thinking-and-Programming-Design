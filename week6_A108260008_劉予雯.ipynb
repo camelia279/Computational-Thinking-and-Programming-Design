{
  "nbformat": 4,
  "nbformat_minor": 0,
  "metadata": {
    "colab": {
      "name": "week6-A108260008-劉予雯.ipynb",
      "provenance": [],
      "include_colab_link": true
    },
    "kernelspec": {
      "name": "python3",
      "display_name": "Python 3"
    }
  },
  "cells": [
    {
      "cell_type": "markdown",
      "metadata": {
        "id": "view-in-github",
        "colab_type": "text"
      },
      "source": [
        "<a href=\"https://colab.research.google.com/github/camelia279/Computational-Thinking-and-Programming-Design/blob/master/week6_A108260008_%E5%8A%89%E4%BA%88%E9%9B%AF.ipynb\" target=\"_parent\"><img src=\"https://colab.research.google.com/assets/colab-badge.svg\" alt=\"Open In Colab\"/></a>"
      ]
    },
    {
      "cell_type": "code",
      "metadata": {
        "id": "B5ZDxR7PPlJp",
        "colab_type": "code",
        "outputId": "5210e6ee-04ab-4fe3-8380-b9cd1970bb4b",
        "colab": {
          "base_uri": "https://localhost:8080/",
          "height": 225
        }
      },
      "source": [
        "t1=()\n",
        "print(t1)\n",
        "\n",
        "t2=1,2,3\n",
        "print(t2)\n",
        "\n",
        "t3=(1,2,3)\n",
        "print(t3)\n",
        "\n",
        "t3=(1,2,3)\n",
        "print(t3[0])\n",
        "\n",
        "t3=(1,2,3)\n",
        "a,b,c=t3\n",
        "print('a=',a,',b=',b,',c=',c)\n",
        "\n",
        "a=10\n",
        "b=20\n",
        "print('交換前','a=',a,'b=',b)\n",
        "a,b=b,a\n",
        "print('交換後','a=',a,'b=',b)\n",
        "\n",
        "list1=[1,2,3,4]\n",
        "t4=tuple(list1)\n",
        "print(t4)\n",
        "\n",
        "t4=(1,2,3,4)\n",
        "t5=(t4,5,6)\n",
        "print(t5)\n",
        "print(len(t5))\n",
        "print(t5[0][0])\n",
        "\n",
        "t6=('z')\n",
        "print(t6)\n"
      ],
      "execution_count": 0,
      "outputs": [
        {
          "output_type": "stream",
          "text": [
            "()\n",
            "(1, 2, 3)\n",
            "(1, 2, 3)\n",
            "1\n",
            "a= 1 ,b= 2 ,c= 3\n",
            "交換前 a= 10 b= 20\n",
            "交換後 a= 20 b= 10\n",
            "(1, 2, 3, 4)\n",
            "((1, 2, 3, 4), 5, 6)\n",
            "3\n",
            "1\n",
            "z\n"
          ],
          "name": "stdout"
        }
      ]
    },
    {
      "cell_type": "code",
      "metadata": {
        "id": "PrjEFXnySTXr",
        "colab_type": "code",
        "outputId": "692f65e3-2c17-4853-8763-5941f2cb78bd",
        "colab": {
          "base_uri": "https://localhost:8080/",
          "height": 555
        }
      },
      "source": [
        "shoplist=['牛奶','蛋','咖啡豆','西瓜','鳳梨']\n",
        "print('購物清單shoplist為')\n",
        "print(shoplist)\n",
        "\n",
        "shoplist=['牛奶','蛋','咖啡豆','西瓜','鳳梨']\n",
        "print('顯示shoplist[0]')\n",
        "\n",
        "shoplist=['牛奶','蛋','咖啡豆','西瓜','鳳梨']\n",
        "print('購物清單shoplist的長度為',len(shoplist))\n",
        "\n",
        "shoplist=['牛奶','蛋','咖啡豆','西瓜','鳳梨']\n",
        "shoplist[1]='皮蛋'\n",
        "print(\"執行shoplist[1]='皮蛋'後\")\n",
        "print(shoplist)\n",
        "\n",
        "shoplist=['牛奶','蛋','咖啡豆','西瓜','鳳梨']\n",
        "index=shoplist.index('咖啡豆')\n",
        "print(\"執行index=shoplist.index('咖啡豆')後\")\n",
        "print('index=',index)\n",
        "\n",
        "shoplist=['牛奶','蛋','咖啡豆','西瓜','鳳梨']\n",
        "shoplist.append('麵包')\n",
        "print(\"執行shoplist.append('麵包')後\")\n",
        "print(shoplist)\n",
        "\n",
        "shoplist=['牛奶','蛋','咖啡豆','西瓜','鳳梨']\n",
        "shoplist.insert(4,'蘋果')\n",
        "print(\"執行shoplist,insert(4,'蘋果')後\")\n",
        "print(shoplist)\n",
        "\n",
        "shoplist=['牛奶','蛋','咖啡豆','西瓜','鳳梨']\n",
        "shoplist.remove('蛋')\n",
        "print(\"執行shoplist,remove('蛋')後\")\n",
        "print(shoplist)\n",
        "\n",
        "shoplist=['牛奶','蛋','咖啡豆','西瓜','鳳梨']\n",
        "del shoplist[0]\n",
        "print(\"執行del shoplist[0]後\")\n",
        "print(shoplist)\n",
        "\n",
        "shoplist=['牛奶','蛋','咖啡豆','西瓜','鳳梨']\n",
        "shoplist.pop(0)\n",
        "print(\"執行shoplist.pop(0)後\")\n",
        "print(shoplist)\n",
        "shoplist.pop()\n",
        "print(\"執行shoplist.pop()後\")\n",
        "print(shoplist)\n",
        "shoplist.pop(-1)\n",
        "print(\"執行shoplist.pop(-1)後\")\n",
        "print(shoplist)\n",
        "\n",
        "shoplist=['milk','egg','coffee','watermelon']\n",
        "shoplist.sort()\n",
        "print(\"執行shoplist,sort()後\")\n",
        "print(shoplist)\n",
        "\n",
        "list=[1,2.0,3,'Python']\n",
        "print(\"串列可以包含各種資料型別的元素\")\n",
        "print(list)\n",
        "\n",
        "shoplist=['milk','egg','coffee','watermelon']\n",
        "for item in shoplist:\n",
        "  print(item)\n",
        "  \n",
        "  \n",
        "shoplist1=['牛奶','蛋','咖啡豆']\n",
        "shoplist2=['西瓜','鳳梨']\n",
        "shoplist_all=shoplist1+shoplist2\n",
        "print(shoplist_all)"
      ],
      "execution_count": 0,
      "outputs": [
        {
          "output_type": "stream",
          "text": [
            "購物清單shoplist為\n",
            "['牛奶', '蛋', '咖啡豆', '西瓜', '鳳梨']\n",
            "顯示shoplist[0]\n",
            "購物清單shoplist的長度為 5\n",
            "執行shoplist[1]='皮蛋'後\n",
            "['牛奶', '皮蛋', '咖啡豆', '西瓜', '鳳梨']\n",
            "執行index=shoplist.index('咖啡豆')後\n",
            "index= 2\n",
            "執行shoplist.append('麵包')後\n",
            "['牛奶', '蛋', '咖啡豆', '西瓜', '鳳梨', '麵包']\n",
            "執行shoplist,insert(4,'蘋果')後\n",
            "['牛奶', '蛋', '咖啡豆', '西瓜', '蘋果', '鳳梨']\n",
            "執行shoplist,remove('蛋')後\n",
            "['牛奶', '咖啡豆', '西瓜', '鳳梨']\n",
            "執行del shoplist[0]後\n",
            "['蛋', '咖啡豆', '西瓜', '鳳梨']\n",
            "執行shoplist.pop(0)後\n",
            "['蛋', '咖啡豆', '西瓜', '鳳梨']\n",
            "執行shoplist.pop()後\n",
            "['蛋', '咖啡豆', '西瓜']\n",
            "執行shoplist.pop(-1)後\n",
            "['蛋', '咖啡豆']\n",
            "執行shoplist,sort()後\n",
            "['coffee', 'egg', 'milk', 'watermelon']\n",
            "串列可以包含各種資料型別的元素\n",
            "[1, 2.0, 3, 'Python']\n",
            "milk\n",
            "egg\n",
            "coffee\n",
            "watermelon\n",
            "['牛奶', '蛋', '咖啡豆', '西瓜', '鳳梨']\n"
          ],
          "name": "stdout"
        }
      ]
    },
    {
      "cell_type": "code",
      "metadata": {
        "id": "xPYlySG6uVPU",
        "colab_type": "code",
        "outputId": "9a21ef40-4b34-4351-e546-73382e50e3b1",
        "colab": {
          "base_uri": "https://localhost:8080/",
          "height": 67
        }
      },
      "source": [
        "list1=list('python')\n",
        "print(list1)\n",
        "tuple2=('a','b',1,2)\n",
        "list2=list(tuple2)\n",
        "print(list2)\n",
        "list3=\"2016/1/1\".split('/')\n",
        "print(list3)"
      ],
      "execution_count": 0,
      "outputs": [
        {
          "output_type": "stream",
          "text": [
            "['p', 'y', 't', 'h', 'o', 'n']\n",
            "['a', 'b', 1, 2]\n",
            "['2016', '1', '1']\n"
          ],
          "name": "stdout"
        }
      ]
    },
    {
      "cell_type": "code",
      "metadata": {
        "id": "G7WacyWuu4gs",
        "colab_type": "code",
        "outputId": "05796454-1752-4081-a9c1-8f68ef08443d",
        "colab": {
          "base_uri": "https://localhost:8080/",
          "height": 185
        }
      },
      "source": [
        "a=list('abcdefghijk')\n",
        "print('a[:]為',a[:])\n",
        "\n",
        "a=list('abcdefghijk')\n",
        "print('a[:5]為',a[:5])\n",
        "print('a[5:]為',a[5:])\n",
        "print('a[:-5]為',a[:-5])\n",
        "print('a[-5:]為',a[-5:])\n",
        "\n",
        "a=list('abcdefghijk')\n",
        "print('a[0:4]為',a[0:4])\n",
        "print('a[-5:-3]為',a[-5:-3])\n",
        "\n",
        "a=list('abcdefghijk')\n",
        "print('a[1:10:3]為',a[1:10:3])\n",
        "print('a[-1:-4:-1]為',a[-1:-4:-1])\n",
        "\n",
        "a=list('abcdefghijk')\n",
        "print('a[::-1]為',a[::-1])\n"
      ],
      "execution_count": 0,
      "outputs": [
        {
          "output_type": "stream",
          "text": [
            "a[:]為 ['a', 'b', 'c', 'd', 'e', 'f', 'g', 'h', 'i', 'j', 'k']\n",
            "a[:5]為 ['a', 'b', 'c', 'd', 'e']\n",
            "a[5:]為 ['f', 'g', 'h', 'i', 'j', 'k']\n",
            "a[:-5]為 ['a', 'b', 'c', 'd', 'e', 'f']\n",
            "a[-5:]為 ['g', 'h', 'i', 'j', 'k']\n",
            "a[0:4]為 ['a', 'b', 'c', 'd']\n",
            "a[-5:-3]為 ['g', 'h']\n",
            "a[1:10:3]為 ['b', 'e', 'h']\n",
            "a[-1:-4:-1]為 ['k', 'j', 'i']\n",
            "a[::-1]為 ['k', 'j', 'i', 'h', 'g', 'f', 'e', 'd', 'c', 'b', 'a']\n"
          ],
          "name": "stdout"
        }
      ]
    },
    {
      "cell_type": "code",
      "metadata": {
        "id": "IgGYoG1GkPXX",
        "colab_type": "code",
        "outputId": "5f92d25c-c0fb-47b4-ebcb-ef09b83a7d8d",
        "colab": {
          "base_uri": "https://localhost:8080/",
          "height": 185
        }
      },
      "source": [
        "list1=[1,2,3,4]\n",
        "list2=list1\n",
        "print('list1=',list1)\n",
        "print('list2=',list2)\n",
        "list1[2]=19\n",
        "print('list1=',list1)\n",
        "print('list2=',list2)\n",
        "list2[2]=18\n",
        "print('list1=',list1)\n",
        "print('list2=',list2)\n",
        "\n",
        "\n",
        "list1=[1,2,3,4]\n",
        "list3=list1[:]\n",
        "list3[2]=19\n",
        "print('list1=',list1)\n",
        "print('list3=',list3)\n",
        "list4=list1.copy()\n",
        "list4[2]=19\n",
        "print('list1=',list1)\n",
        "print('list4=',list4)"
      ],
      "execution_count": 0,
      "outputs": [
        {
          "output_type": "stream",
          "text": [
            "list1= [1, 2, 3, 4]\n",
            "list2= [1, 2, 3, 4]\n",
            "list1= [1, 2, 19, 4]\n",
            "list2= [1, 2, 19, 4]\n",
            "list1= [1, 2, 18, 4]\n",
            "list2= [1, 2, 18, 4]\n",
            "list1= [1, 2, 3, 4]\n",
            "list3= [1, 2, 19, 4]\n",
            "list1= [1, 2, 3, 4]\n",
            "list4= [1, 2, 19, 4]\n"
          ],
          "name": "stdout"
        }
      ]
    },
    {
      "cell_type": "code",
      "metadata": {
        "id": "UW9Uweb_l6MU",
        "colab_type": "code",
        "outputId": "d57902ec-39eb-4e2c-bc14-ce8a42225937",
        "colab": {
          "base_uri": "https://localhost:8080/",
          "height": 185
        }
      },
      "source": [
        "dict1={}\n",
        "print(dict1)\n",
        "lang={'早安':'Good Morning','你好':'Hello'}\n",
        "print(lang)\n",
        "\n",
        "lang={'早安':'Good Morning','你好':'Hello'}\n",
        "print('「你好」的英文為',lang['你好'])\n",
        "\n",
        "lang={'早安':'Good Morning','你好':'Hello'}\n",
        "print('「你好」的英文為',lang.get('你好'))\n",
        "print('「你好嗎」的英文為',lang.get('你好嗎'))\n",
        "print('「你好嗎」的英文為',lang.get('你好嗎','不在字典內'))\n",
        "\n",
        "lang={'早安':'Good Morning','你好':'Hello'}\n",
        "lang['你好']='Hi'\n",
        "print(lang)\n",
        "lang['學生']='Student'\n",
        "print(lang)\n",
        "\n",
        "lang={'早安':'Good Morning','你好':'Hello'}\n",
        "del lang['早安']\n",
        "print(lang)\n",
        "\n",
        "lang={'早安':'Good Morning','你好':'Hello'}\n",
        "lang.clear()\n",
        "print(lang)"
      ],
      "execution_count": 7,
      "outputs": [
        {
          "output_type": "stream",
          "text": [
            "{}\n",
            "{'早安': 'Good Morning', '你好': 'Hello'}\n",
            "「你好」的英文為 Hello\n",
            "「你好」的英文為 Hello\n",
            "「你好嗎」的英文為 None\n",
            "「你好嗎」的英文為 不在字典內\n",
            "{'早安': 'Good Morning', '你好': 'Hi'}\n",
            "{'早安': 'Good Morning', '你好': 'Hi', '學生': 'Student'}\n",
            "{'你好': 'Hello'}\n",
            "{}\n"
          ],
          "name": "stdout"
        }
      ]
    },
    {
      "cell_type": "code",
      "metadata": {
        "id": "gOyCQXVM4Qpd",
        "colab_type": "code",
        "outputId": "84a54469-40a6-4e2b-d09f-c93d457a7a87",
        "colab": {
          "base_uri": "https://localhost:8080/",
          "height": 84
        }
      },
      "source": [
        "a=[['早安','Good Morning'],['你好','Hello']]\n",
        "dict1=dict(a)\n",
        "print(dict1)\n",
        "b=[['早安','Good Morning'],['你好','Hello']]\n",
        "dict2=dict(b)\n",
        "print(dict2)\n",
        "c=[['早安','Good Morning'],['你好','Hello']]\n",
        "dict3=dict(c)\n",
        "print(dict3)\n",
        "d=[['早安','Good Morning'],['你好','Hello']]\n",
        "dict4=dict(d)\n",
        "print(dict4)"
      ],
      "execution_count": 0,
      "outputs": [
        {
          "output_type": "stream",
          "text": [
            "{'早安': 'Good Morning', '你好': 'Hello'}\n",
            "{'早安': 'Good Morning', '你好': 'Hello'}\n",
            "{'早安': 'Good Morning', '你好': 'Hello'}\n",
            "{'早安': 'Good Morning', '你好': 'Hello'}\n"
          ],
          "name": "stdout"
        }
      ]
    },
    {
      "cell_type": "code",
      "metadata": {
        "id": "JMurYFAi6Sn0",
        "colab_type": "code",
        "outputId": "665e1a7f-f90a-4c6b-877a-6ae8e4f35e01",
        "colab": {
          "base_uri": "https://localhost:8080/",
          "height": 118
        }
      },
      "source": [
        "lang1={'你好':'Hello'}\n",
        "lang2={'學生':'Student'}\n",
        "lang1.update(lang2)\n",
        "print(lang1)\n",
        "lang1={'早安':'Good Morning','你好':'Hello'}\n",
        "lang2={'你好':'Hi'}\n",
        "lang1.update(lang2)\n",
        "print(lang1)\n",
        "\n",
        "lang1={'早安':'Good Morning','你好':'Hello'}\n",
        "lang2=lang1\n",
        "lang2['你好']='Hi'\n",
        "print('lang1為',lang1)\n",
        "print('lang2為',lang2)\n",
        "lang1={'早安':'Good Morning','你好':'Hello'}\n",
        "lang3=lang1.copy()\n",
        "lang3['你好']='Hi'\n",
        "print('lang1為',lang1)\n",
        "print('lang3為',lang3)\n"
      ],
      "execution_count": 0,
      "outputs": [
        {
          "output_type": "stream",
          "text": [
            "{'你好': 'Hello', '學生': 'Student'}\n",
            "{'早安': 'Good Morning', '你好': 'Hi'}\n",
            "lang1為 {'早安': 'Good Morning', '你好': 'Hi'}\n",
            "lang2為 {'早安': 'Good Morning', '你好': 'Hi'}\n",
            "lang1為 {'早安': 'Good Morning', '你好': 'Hello'}\n",
            "lang3為 {'早安': 'Good Morning', '你好': 'Hi'}\n"
          ],
          "name": "stdout"
        }
      ]
    },
    {
      "cell_type": "code",
      "metadata": {
        "id": "dhSChbIR7aRq",
        "colab_type": "code",
        "outputId": "2fc56655-dc8f-4aed-e67c-29212293d3f6",
        "colab": {
          "base_uri": "https://localhost:8080/",
          "height": 118
        }
      },
      "source": [
        "lang={'早安':'Good Morning','你好':'Hello'}\n",
        "for ch, en in lang.items():\n",
        "  print('中文為',ch,'英文為',en)\n",
        "for ch in lang.keys():\n",
        "  print(ch,lang[ch])\n",
        "for en in lang.values():\n",
        "  print(en)"
      ],
      "execution_count": 0,
      "outputs": [
        {
          "output_type": "stream",
          "text": [
            "中文為 早安 英文為 Good Morning\n",
            "中文為 你好 英文為 Hello\n",
            "早安 Good Morning\n",
            "你好 Hello\n",
            "Good Morning\n",
            "Hello\n"
          ],
          "name": "stdout"
        }
      ]
    },
    {
      "cell_type": "code",
      "metadata": {
        "id": "J4wLrmxe-ldB",
        "colab_type": "code",
        "outputId": "e5b82719-bf8d-43a3-ef7a-092b468dda55",
        "colab": {
          "base_uri": "https://localhost:8080/",
          "height": 151
        }
      },
      "source": [
        "s={1,2,3,4}\n",
        "print(s)\n",
        "s=set(('a',1,'b',2))\n",
        "print(s)\n",
        "s=set(['apple','banana','apple'])\n",
        "print(s)\n",
        "s=set({'早安':'Good Morning','你好':'Hello'})\n",
        "print(s)\n",
        "s=set('racecar')\n",
        "print(s)\n",
        "\n",
        "s=set('tiger')\n",
        "print(s)\n",
        "s.add('z')\n",
        "print(s)\n",
        "s.remove('t')\n",
        "print(s)"
      ],
      "execution_count": 0,
      "outputs": [
        {
          "output_type": "stream",
          "text": [
            "{1, 2, 3, 4}\n",
            "{1, 2, 'a', 'b'}\n",
            "{'apple', 'banana'}\n",
            "{'早安', '你好'}\n",
            "{'c', 'e', 'r', 'a'}\n",
            "{'g', 'r', 't', 'i', 'e'}\n",
            "{'z', 'g', 'r', 't', 'i', 'e'}\n",
            "{'z', 'g', 'r', 'i', 'e'}\n"
          ],
          "name": "stdout"
        }
      ]
    }
  ]
}
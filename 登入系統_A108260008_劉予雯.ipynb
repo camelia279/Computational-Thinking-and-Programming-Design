{
  "nbformat": 4,
  "nbformat_minor": 0,
  "metadata": {
    "colab": {
      "name": "登入系統 - A108260008 - 劉予雯.ipynb",
      "provenance": [],
      "include_colab_link": true
    },
    "kernelspec": {
      "name": "python3",
      "display_name": "Python 3"
    }
  },
  "cells": [
    {
      "cell_type": "markdown",
      "metadata": {
        "id": "view-in-github",
        "colab_type": "text"
      },
      "source": [
        "<a href=\"https://colab.research.google.com/github/camelia279/Computational-Thinking-and-Programming-Design/blob/master/%E7%99%BB%E5%85%A5%E7%B3%BB%E7%B5%B1_A108260008_%E5%8A%89%E4%BA%88%E9%9B%AF.ipynb\" target=\"_parent\"><img src=\"https://colab.research.google.com/assets/colab-badge.svg\" alt=\"Open In Colab\"/></a>"
      ]
    },
    {
      "cell_type": "code",
      "metadata": {
        "id": "GJj1vgoLDJ44",
        "colab_type": "code",
        "colab": {
          "base_uri": "https://localhost:8080/",
          "height": 50
        },
        "outputId": "3e8b06d6-4d7e-4876-a7ca-9ee193351a74"
      },
      "source": [
        "while True:\n",
        "    password=input(\"Enter Your Password:\")\n",
        "    if password==\"123\":\n",
        "      print(\"Correct\")\n",
        "      break\n",
        "    else:\n",
        "      print(\"Fail,Try Again\")\n",
        "\n",
        "\n",
        "\n"
      ],
      "execution_count": 2,
      "outputs": [
        {
          "output_type": "stream",
          "text": [
            "Enter Your Password:123\n",
            "Correct\n"
          ],
          "name": "stdout"
        }
      ]
    },
    {
      "cell_type": "code",
      "metadata": {
        "id": "b8Jnqh5ADYGC",
        "colab_type": "code",
        "colab": {
          "base_uri": "https://localhost:8080/",
          "height": 128
        },
        "outputId": "a41b453c-01bc-419f-97da-181b0482adf0"
      },
      "source": [
        "while True:\n",
        "    account=input(\"Enter Your Password:\")\n",
        "    password=input(\"Enter Your Password:\")\n",
        "    if account==\"qazwsx0810\" and password==\"12345\":\n",
        "      print(\"Correct\")\n",
        "      break\n",
        "    else:\n",
        "      print(\"Fail,Try Again”）\n",
        "\n",
        "\n",
        "password==\"123\"\n",
        "times=0\n",
        "\n",
        "while times<=3:\n",
        "  answer=input(\"Enter Your Password:\")\n",
        "  if answer==password:\n",
        "    print(\"登入成功\")\n",
        "    break\n",
        "  else:\n",
        "      times=times+1\n",
        "      chance=3-times\n",
        "      print(\"密碼錯誤！還有\",chance,\"次機會\")\n",
        "\n",
        "range(5)\n",
        "\n",
        "range(3)\n",
        "\n",
        "range(2,5)\n",
        "range(8,10)\n",
        "\n",
        "range(2,10,3)\n",
        "range(3,8,2)\n",
        "range(10,3,-2)\n",
        "\n",
        "for a in range(6):\n",
        "    print(a,end=\" \")\n",
        "\n",
        "sum=0\n",
        "\n",
        "for a in range(1,11,2):\n",
        "    sum=sum+a\n",
        "\n",
        "print(\"1+3+5+7+9=\",sum)"
      ],
      "execution_count": 6,
      "outputs": [
        {
          "output_type": "error",
          "ename": "SyntaxError",
          "evalue": "ignored",
          "traceback": [
            "\u001b[0;36m  File \u001b[0;32m\"<ipython-input-6-8f1d411d89cf>\"\u001b[0;36m, line \u001b[0;32m8\u001b[0m\n\u001b[0;31m    print(\"Fail,Try Again”）\u001b[0m\n\u001b[0m                           ^\u001b[0m\n\u001b[0;31mSyntaxError\u001b[0m\u001b[0;31m:\u001b[0m EOL while scanning string literal\n"
          ]
        }
      ]
    }
  ]
}